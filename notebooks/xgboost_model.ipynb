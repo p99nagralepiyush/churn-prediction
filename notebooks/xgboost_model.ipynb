{
 "cells": [
  {
   "cell_type": "code",
   "execution_count": 1,
   "metadata": {},
   "outputs": [
    {
     "name": "stdout",
     "output_type": "stream",
     "text": [
      "X_train shape: (5634, 19)\n",
      "X_test shape: (1409, 19)\n",
      "y_train shape: (5634, 1)\n",
      "y_test shape: (1409, 1)\n"
     ]
    }
   ],
   "source": [
    "import pandas as pd\n",
    "\n",
    "# Load the training and testing sets\n",
    "X_train = pd.read_csv('../data/X_train.csv')\n",
    "X_test = pd.read_csv('../data/X_test.csv')\n",
    "y_train = pd.read_csv('../data/y_train.csv')\n",
    "y_test = pd.read_csv('../data/y_test.csv')\n",
    "\n",
    "# Drop the customerID column (if present)\n",
    "if 'customerID' in X_train.columns:\n",
    "    X_train = X_train.drop('customerID', axis=1)\n",
    "    X_test = X_test.drop('customerID', axis=1)\n",
    "\n",
    "# Display the shapes of the datasets\n",
    "print(\"X_train shape:\", X_train.shape)\n",
    "print(\"X_test shape:\", X_test.shape)\n",
    "print(\"y_train shape:\", y_train.shape)\n",
    "print(\"y_test shape:\", y_test.shape)"
   ]
  },
  {
   "cell_type": "code",
   "execution_count": 2,
   "metadata": {},
   "outputs": [
    {
     "name": "stdout",
     "output_type": "stream",
     "text": [
      "XGBoost model training complete!\n"
     ]
    }
   ],
   "source": [
    "from xgboost import XGBClassifier\n",
    "\n",
    "# Initialize the XGBoost model\n",
    "xgb_model = XGBClassifier(random_state=42, eval_metric='logloss')\n",
    "\n",
    "# Train the model\n",
    "xgb_model.fit(X_train, y_train.values.ravel())\n",
    "\n",
    "print(\"XGBoost model training complete!\")"
   ]
  },
  {
   "cell_type": "code",
   "execution_count": 3,
   "metadata": {},
   "outputs": [
    {
     "name": "stdout",
     "output_type": "stream",
     "text": [
      "XGBoost Accuracy: 0.7956\n",
      "XGBoost Precision: 0.6358\n",
      "XGBoost Recall: 0.5335\n",
      "XGBoost F1-Score: 0.5802\n",
      "XGBoost AUC-ROC: 0.8422\n"
     ]
    }
   ],
   "source": [
    "from sklearn.metrics import accuracy_score, precision_score, recall_score, f1_score, roc_auc_score\n",
    "\n",
    "# Make predictions on the test set\n",
    "y_pred_xgb = xgb_model.predict(X_test)\n",
    "y_pred_proba_xgb = xgb_model.predict_proba(X_test)[:, 1]  # Probabilities for AUC-ROC\n",
    "\n",
    "# Calculate metrics\n",
    "accuracy_xgb = accuracy_score(y_test, y_pred_xgb)\n",
    "precision_xgb = precision_score(y_test, y_pred_xgb)\n",
    "recall_xgb = recall_score(y_test, y_pred_xgb)\n",
    "f1_xgb = f1_score(y_test, y_pred_xgb)\n",
    "auc_roc_xgb = roc_auc_score(y_test, y_pred_proba_xgb)\n",
    "\n",
    "# Display results\n",
    "print(f\"XGBoost Accuracy: {accuracy_xgb:.4f}\")\n",
    "print(f\"XGBoost Precision: {precision_xgb:.4f}\")\n",
    "print(f\"XGBoost Recall: {recall_xgb:.4f}\")\n",
    "print(f\"XGBoost F1-Score: {f1_xgb:.4f}\")\n",
    "print(f\"XGBoost AUC-ROC: {auc_roc_xgb:.4f}\")"
   ]
  },
  {
   "cell_type": "code",
   "execution_count": 4,
   "metadata": {},
   "outputs": [
    {
     "name": "stdout",
     "output_type": "stream",
     "text": [
      "Fitting 3 folds for each of 108 candidates, totalling 324 fits\n",
      "Best Parameters: {'colsample_bytree': 0.8, 'learning_rate': 0.01, 'max_depth': 5, 'n_estimators': 300, 'subsample': 0.8}\n"
     ]
    }
   ],
   "source": [
    "from sklearn.model_selection import GridSearchCV\n",
    "\n",
    "# Define the parameter grid\n",
    "param_grid = {\n",
    "    'max_depth': [3, 5, 7],\n",
    "    'learning_rate': [0.01, 0.1, 0.2],\n",
    "    'n_estimators': [100, 200, 300],\n",
    "    'subsample': [0.8, 1.0],\n",
    "    'colsample_bytree': [0.8, 1.0]\n",
    "}\n",
    "\n",
    "# Initialize GridSearchCV\n",
    "grid_search = GridSearchCV(\n",
    "    estimator=XGBClassifier(random_state=42, eval_metric='logloss'),\n",
    "    param_grid=param_grid,\n",
    "    scoring='roc_auc',\n",
    "    cv=3,\n",
    "    n_jobs=-1,\n",
    "    verbose=1\n",
    ")\n",
    "\n",
    "# Perform grid search\n",
    "grid_search.fit(X_train, y_train.values.ravel())\n",
    "\n",
    "# Display the best parameters\n",
    "print(\"Best Parameters:\", grid_search.best_params_)"
   ]
  },
  {
   "cell_type": "code",
   "execution_count": 5,
   "metadata": {},
   "outputs": [
    {
     "name": "stdout",
     "output_type": "stream",
     "text": [
      "Tuned XGBoost model training complete!\n"
     ]
    }
   ],
   "source": [
    "# Train the tuned XGBoost model\n",
    "tuned_xgb_model = XGBClassifier(\n",
    "    random_state=42,\n",
    "    eval_metric='logloss',\n",
    "    **grid_search.best_params_\n",
    ")\n",
    "\n",
    "tuned_xgb_model.fit(X_train, y_train.values.ravel())\n",
    "\n",
    "print(\"Tuned XGBoost model training complete!\")"
   ]
  },
  {
   "cell_type": "code",
   "execution_count": 6,
   "metadata": {},
   "outputs": [
    {
     "name": "stdout",
     "output_type": "stream",
     "text": [
      "Tuned XGBoost Accuracy: 0.8112\n",
      "Tuned XGBoost Precision: 0.6931\n",
      "Tuned XGBoost Recall: 0.5147\n",
      "Tuned XGBoost F1-Score: 0.5908\n",
      "Tuned XGBoost AUC-ROC: 0.8629\n"
     ]
    }
   ],
   "source": [
    "# Make predictions on the test set\n",
    "y_pred_tuned_xgb = tuned_xgb_model.predict(X_test)\n",
    "y_pred_proba_tuned_xgb = tuned_xgb_model.predict_proba(X_test)[:, 1]  # Probabilities for AUC-ROC\n",
    "\n",
    "# Calculate metrics\n",
    "accuracy_tuned_xgb = accuracy_score(y_test, y_pred_tuned_xgb)\n",
    "precision_tuned_xgb = precision_score(y_test, y_pred_tuned_xgb)\n",
    "recall_tuned_xgb = recall_score(y_test, y_pred_tuned_xgb)\n",
    "f1_tuned_xgb = f1_score(y_test, y_pred_tuned_xgb)\n",
    "auc_roc_tuned_xgb = roc_auc_score(y_test, y_pred_proba_tuned_xgb)\n",
    "\n",
    "# Display results\n",
    "print(f\"Tuned XGBoost Accuracy: {accuracy_tuned_xgb:.4f}\")\n",
    "print(f\"Tuned XGBoost Precision: {precision_tuned_xgb:.4f}\")\n",
    "print(f\"Tuned XGBoost Recall: {recall_tuned_xgb:.4f}\")\n",
    "print(f\"Tuned XGBoost F1-Score: {f1_tuned_xgb:.4f}\")\n",
    "print(f\"Tuned XGBoost AUC-ROC: {auc_roc_tuned_xgb:.4f}\")"
   ]
  },
  {
   "cell_type": "code",
   "execution_count": 7,
   "metadata": {},
   "outputs": [
    {
     "name": "stdout",
     "output_type": "stream",
     "text": [
      "Tuned XGBoost model saved to '../models/xgboost_tuned.pkl'.\n"
     ]
    }
   ],
   "source": [
    "import joblib\n",
    "\n",
    "# Save the tuned model to a file\n",
    "joblib.dump(tuned_xgb_model, '../models/xgboost_tuned.pkl')\n",
    "\n",
    "print(\"Tuned XGBoost model saved to '../models/xgboost_tuned.pkl'.\")"
   ]
  },
  {
   "cell_type": "code",
   "execution_count": null,
   "metadata": {},
   "outputs": [],
   "source": []
  }
 ],
 "metadata": {
  "kernelspec": {
   "display_name": "ccp",
   "language": "python",
   "name": "python3"
  },
  "language_info": {
   "codemirror_mode": {
    "name": "ipython",
    "version": 3
   },
   "file_extension": ".py",
   "mimetype": "text/x-python",
   "name": "python",
   "nbconvert_exporter": "python",
   "pygments_lexer": "ipython3",
   "version": "3.12.8"
  }
 },
 "nbformat": 4,
 "nbformat_minor": 2
}
